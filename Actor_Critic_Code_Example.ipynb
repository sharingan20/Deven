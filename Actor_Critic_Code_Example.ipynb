{
  "nbformat": 4,
  "nbformat_minor": 0,
  "metadata": {
    "colab": {
      "name": "Actor_Critic_Code_Example.ipynb",
      "provenance": []
    },
    "kernelspec": {
      "name": "python3",
      "display_name": "Python 3"
    },
    "language_info": {
      "name": "python"
    },
    "accelerator": "GPU"
  },
  "cells": [
    {
      "cell_type": "markdown",
      "metadata": {
        "id": "kwsXCZ8IiHcL"
      },
      "source": [
        "#Actor-Critic Method\n",
        "\n"
      ]
    },
    {
      "cell_type": "markdown",
      "metadata": {
        "id": "H0mY4I9IikNP"
      },
      "source": [
        "### Actor-Critic methods\n",
        "\n",
        "Actor-Critic methods are [temporal difference (TD) learning](https://en.wikipedia.org/wiki/Temporal_difference_learning) methods that represent the policy function independent of the value function. \n",
        "\n",
        "A policy function (or policy) returns a probability distribution over actions that the agent can take based on the given state.\n",
        "A value function determines the expected return for an agent starting at a given state and acting according to a particular policy forever after.\n",
        "\n",
        "In the Actor-Critic method, the policy is referred to as the *actor* that proposes a set of possible actions given a state, and the estimated value function is referred to as the *critic*, which evaluates actions taken by the *actor* based on the given policy.\n",
        "\n",
        "We will implement the *Actor* and *Critic* using one neural network with two outputs.\n"
      ]
    },
    {
      "cell_type": "markdown",
      "metadata": {
        "id": "mOYxDI1Dja1i"
      },
      "source": [
        "### CartPole-v0\n",
        "\n",
        "In the [CartPole-v0 environment](https://gym.openai.com/envs/CartPole-v0), a pole is attached to a cart moving along a frictionless track. \n",
        "The pole starts upright and the goal of the agent is to prevent it from falling over by applying a force of -1 or +1 to the cart. \n",
        "A reward of +1 is given for every time step the pole remains upright.\n",
        "An episode ends when (1) the pole is more than 15 degrees from vertical or (2) the cart moves more than 2.4 units from the center.\n",
        "\n",
        "We consider to have *solved* the problem when the average total reward for the episode reaches 195 over 100 consecutive trials."
      ]
    },
    {
      "cell_type": "markdown",
      "metadata": {
        "id": "Ab3C55OLj_CJ"
      },
      "source": [
        "### Setup"
      ]
    },
    {
      "cell_type": "code",
      "metadata": {
        "colab": {
          "base_uri": "https://localhost:8080/"
        },
        "id": "AlmzU3__grD1",
        "outputId": "b865c783-66ae-4b48-a126-3d86e5aa3699"
      },
      "source": [
        "%%bash\n",
        "pip install gym\n",
        "pip install pyglet\n",
        "\n",
        "# Install additional packages for visualization\n",
        "sudo apt-get install -y xvfb python-opengl > /dev/null 2>&1\n",
        "pip install pyvirtualdisplay > /dev/null 2>&1\n",
        "pip install git+https://github.com/tensorflow/docs > /dev/null 2>&1"
      ],
      "execution_count": 1,
      "outputs": [
        {
          "output_type": "stream",
          "name": "stdout",
          "text": [
            "Requirement already satisfied: gym in /usr/local/lib/python3.7/dist-packages (0.17.3)\n",
            "Requirement already satisfied: numpy>=1.10.4 in /usr/local/lib/python3.7/dist-packages (from gym) (1.19.5)\n",
            "Requirement already satisfied: cloudpickle<1.7.0,>=1.2.0 in /usr/local/lib/python3.7/dist-packages (from gym) (1.3.0)\n",
            "Requirement already satisfied: pyglet<=1.5.0,>=1.4.0 in /usr/local/lib/python3.7/dist-packages (from gym) (1.5.0)\n",
            "Requirement already satisfied: scipy in /usr/local/lib/python3.7/dist-packages (from gym) (1.4.1)\n",
            "Requirement already satisfied: future in /usr/local/lib/python3.7/dist-packages (from pyglet<=1.5.0,>=1.4.0->gym) (0.16.0)\n",
            "Requirement already satisfied: pyglet in /usr/local/lib/python3.7/dist-packages (1.5.0)\n",
            "Requirement already satisfied: future in /usr/local/lib/python3.7/dist-packages (from pyglet) (0.16.0)\n"
          ]
        }
      ]
    },
    {
      "cell_type": "code",
      "metadata": {
        "id": "nDzkR5gSkHyz"
      },
      "source": [
        "import collections\n",
        "import gym\n",
        "import numpy as np\n",
        "import statistics\n",
        "import tensorflow as tf\n",
        "import tqdm\n",
        "\n",
        "from matplotlib import pyplot as plt\n",
        "from tensorflow.keras import layers\n",
        "from typing import Any, List, Sequence, Tuple\n",
        "\n",
        "# Create the environment\n",
        "env = gym.make(\"CartPole-v0\")\n",
        "\n",
        "# Set seed for experiment reproducibility\n",
        "seed = 42\n",
        "env.seed(seed)\n",
        "tf.random.set_seed(seed)\n",
        "np.random.seed(seed)\n",
        "\n",
        "# Small epsilon value for stabilizing division operations\n",
        "eps = np.finfo(np.float32).eps.item()"
      ],
      "execution_count": 2,
      "outputs": []
    },
    {
      "cell_type": "markdown",
      "metadata": {
        "id": "FO_6WmCTmCRK"
      },
      "source": [
        "### Model\n",
        "\n",
        "We model the *Actor* and *Critic* using one neural network that outputs the action probabilities and critic value, respectively.\n",
        "\n",
        "During the forward pass, the model will take in the state as the input and will output both action probabilities and critic value $V$, which models the state-dependent [value function](https://spinningup.openai.com/en/latest/spinningup/rl_intro.html#value-functions). The goal is to train a model that chooses actions based on a policy $\\pi$ that maximizes expected [return](https://spinningup.openai.com/en/latest/spinningup/rl_intro.html#reward-and-return).\n",
        "\n",
        "In Carpole-v0, there are four values representing the state: cart position, cart-velocity, pole angle and pole velocity. The agent can take two actions to push the cart: push the cart left (0) or push the cart right (1)."
      ]
    },
    {
      "cell_type": "code",
      "metadata": {
        "id": "DjauvWqxm7NN"
      },
      "source": [
        "class ActorCritic(tf.keras.Model):\n",
        "  \"\"\"Combined actor-critic network.\"\"\"\n",
        "  def __init__(\n",
        "      self, \n",
        "      num_actions: int, \n",
        "      num_hidden_units: int):\n",
        "    super().__init__()\n",
        "    self.common = layers.Dense(num_hidden_units, activation=\"relu\")\n",
        "    self.actor = layers.Dense(num_actions)\n",
        "    self.critic = layers.Dense(1)\n",
        "\n",
        "  def call(self, inputs: tf.Tensor) -> Tuple[tf.Tensor, tf.Tensor]:\n",
        "    x = self.common(inputs)\n",
        "    return self.actor(x), self.critic(x)"
      ],
      "execution_count": 3,
      "outputs": []
    },
    {
      "cell_type": "markdown",
      "metadata": {
        "id": "WsN_8uUdnlGR"
      },
      "source": [
        "Instantiate model:"
      ]
    },
    {
      "cell_type": "code",
      "metadata": {
        "id": "v90ca-ZEnkSc"
      },
      "source": [
        "num_actions = env.action_space.n  # 2\n",
        "num_hidden_units = 128\n",
        "\n",
        "model = ActorCritic(num_actions, num_hidden_units)"
      ],
      "execution_count": 4,
      "outputs": []
    },
    {
      "cell_type": "markdown",
      "metadata": {
        "id": "twZColAfnyIK"
      },
      "source": [
        "### Training\n",
        "\n",
        "To train the agent, we will do the following:\n",
        "\n",
        "1. Run the agent on the environment to collect training data per episode\n",
        "2. Compute the expected return at each time step\n",
        "3. Compute the loss for the combined actor-critic model\n",
        "4. Compute gradients, update network parameters\n",
        "5. Repeat 1-4 until success criterion is met or max episodes have been reached"
      ]
    },
    {
      "cell_type": "markdown",
      "metadata": {
        "id": "yDeiT_fmoiaf"
      },
      "source": [
        "### 1. Collecting Training Data\n",
        "\n",
        "In order to train the actor-critic model in a supervised learning fashion, we require data. We do so by running the model in the environment.\n",
        "\n",
        "We collect training data for each episode. Then at each time step, the model's forward pass will be run on the environment's state in order to generate action probabilities and the critic value based on the current policy parameterized by the model's weights.\n",
        "\n",
        "The next action will be sampled from the action probabilities generated by the model, which would then be applied to the environment, causing the next state and reward to be generated."
      ]
    },
    {
      "cell_type": "code",
      "metadata": {
        "id": "D8jyO6YMpBWv"
      },
      "source": [
        "# Wrap OpenAI Gym's `env.step` call as an operation in a TensorFlow function.\n",
        "# This would allow it to be included in a callable TensorFlow graph.\n",
        "\n",
        "def env_step(action: np.ndarray) -> Tuple[np.ndarray, np.ndarray, np.ndarray]:\n",
        "  state, reward, done, _ = env.step(action)\n",
        "  return (state.astype(np.float32), \n",
        "          np.array(reward, np.int32), \n",
        "          np.array(done, np.int32))\n",
        "\n",
        "def tf_env_step(action: tf.Tensor) -> List[tf.Tensor]:\n",
        "  return tf.numpy_function(env_step, [action], \n",
        "                           [tf.float32, tf.int32, tf.int32])"
      ],
      "execution_count": 5,
      "outputs": []
    },
    {
      "cell_type": "code",
      "metadata": {
        "id": "pXNMjGJdpN9Y"
      },
      "source": [
        "def run_episode(\n",
        "    initial_state: tf.Tensor,  \n",
        "    model: tf.keras.Model, \n",
        "    max_steps: int) -> Tuple[tf.Tensor, tf.Tensor, tf.Tensor]:\n",
        "  \"\"\"Runs a single episode to collect training data.\"\"\"\n",
        "\n",
        "  action_probs = tf.TensorArray(dtype=tf.float32, size=0, dynamic_size=True)\n",
        "  values = tf.TensorArray(dtype=tf.float32, size=0, dynamic_size=True)\n",
        "  rewards = tf.TensorArray(dtype=tf.int32, size=0, dynamic_size=True)\n",
        "\n",
        "  initial_state_shape = initial_state.shape\n",
        "  state = initial_state\n",
        "\n",
        "  for t in tf.range(max_steps):\n",
        "    # Convert state into a batched tensor (batch size = 1)\n",
        "    state = tf.expand_dims(state, 0)\n",
        "  \n",
        "    # Run the model to get action probabilities and critic value\n",
        "    action_logits_t, value = model(state)\n",
        "  \n",
        "    # Sample next action from the action probability distribution\n",
        "    action = tf.random.categorical(action_logits_t, 1)[0, 0]\n",
        "    action_probs_t = tf.nn.softmax(action_logits_t)\n",
        "\n",
        "    # Store critic values\n",
        "    values = values.write(t, tf.squeeze(value))\n",
        "\n",
        "    # Store log probability of the action chosen\n",
        "    action_probs = action_probs.write(t, action_probs_t[0, action])\n",
        "  \n",
        "    # Apply action to the environment to get next state and reward\n",
        "    state, reward, done = tf_env_step(action)\n",
        "    state.set_shape(initial_state_shape)\n",
        "  \n",
        "    # Store reward\n",
        "    rewards = rewards.write(t, reward)\n",
        "\n",
        "    if tf.cast(done, tf.bool):\n",
        "      break\n",
        "\n",
        "  action_probs = action_probs.stack()\n",
        "  values = values.stack()\n",
        "  rewards = rewards.stack()\n",
        "  \n",
        "  return action_probs, values, rewards"
      ],
      "execution_count": 6,
      "outputs": []
    },
    {
      "cell_type": "markdown",
      "metadata": {
        "id": "w4YDqrFzs4b1"
      },
      "source": [
        "### 2. Computing Expected Returns\n",
        "\n",
        "The sequence of rewards for each timestep $t$, $\\{r_{t}\\}^{T}_{t=1}$ collected during one episode is converted into a sequence of expected returns $\\{G_{t}\\}^{T}_{t=1}$ in which the sum of rewards is taken from the current timestep $t$ to $T$ and each reward is multiplied with an exponentially decaying discount factor $\\gamma$:\n",
        "\n",
        "$$G_{t} = \\sum^{T}_{t'=t} \\gamma^{t'-t}r_{t'}$$\n",
        "\n",
        "Since $\\gamma\\in(0,1)$, rewards further out from the current timestep are given less weight.\n",
        "\n",
        "To stabilize training, the resulting sequence of returns is also standardized.\n"
      ]
    },
    {
      "cell_type": "code",
      "metadata": {
        "id": "WMd7mf5JtVMH"
      },
      "source": [
        "def get_expected_return(\n",
        "    rewards: tf.Tensor, \n",
        "    gamma: float, \n",
        "    standardize: bool = True) -> tf.Tensor:\n",
        "  \"\"\"Compute expected returns per timestep.\"\"\"\n",
        "\n",
        "  n = tf.shape(rewards)[0]\n",
        "  returns = tf.TensorArray(dtype=tf.float32, size=n)\n",
        "\n",
        "  # Start from the end of `rewards` and accumulate reward sums\n",
        "  # into the `returns` array\n",
        "  rewards = tf.cast(rewards[::-1], dtype=tf.float32)\n",
        "  discounted_sum = tf.constant(0.0)\n",
        "  discounted_sum_shape = discounted_sum.shape\n",
        "  for i in tf.range(n):\n",
        "    reward = rewards[i]\n",
        "    discounted_sum = reward + gamma * discounted_sum\n",
        "    discounted_sum.set_shape(discounted_sum_shape)\n",
        "    returns = returns.write(i, discounted_sum)\n",
        "  returns = returns.stack()[::-1]\n",
        "\n",
        "  if standardize:\n",
        "    returns = ((returns - tf.math.reduce_mean(returns)) / \n",
        "               (tf.math.reduce_std(returns) + eps))\n",
        "\n",
        "  return returns"
      ],
      "execution_count": 7,
      "outputs": []
    },
    {
      "cell_type": "markdown",
      "metadata": {
        "id": "oIHWJ4Xvttcf"
      },
      "source": [
        "### 3. Actor-Critic Loss\n",
        "\n",
        "Since a hybrid actor-critic model is used, the chosen loss function is a combination of actor and critic losses for training, as shown below:\n",
        "\n",
        "$$L = L_{actor} + L_{critic}$$\n",
        "\n",
        "#### Actor loss\n",
        "\n",
        "The actor loss is based on [policy gradients with the critic as a state dependent baseline](https://www.youtube.com/watch?v=EKqxumCuAAY&t=62m23s) and computed with single-sample (per-episode) estimates.\n",
        "\n",
        "$$L_{actor} = -\\sum^{T}_{t=1} log\\pi_{\\theta}(a_{t} | s_{t})[G(s_{t}, a_{t})  - V^{\\pi}_{\\theta}(s_{t})]$$\n",
        "\n",
        "where:\n",
        "- $T$: the number of timesteps per episode, which can vary per episode\n",
        "- $s_{t}$: the state at timestep $t$\n",
        "- $a_{t}$: chosen action at timestep $t$ given state $s$\n",
        "- $\\pi_{\\theta}$: is the policy (actor) parameterized by $\\theta$\n",
        "- $V^{\\pi}_{\\theta}$: is the value function (critic) also parameterized by $\\theta$\n",
        "- $G = G_{t}$: the expected return for a given state, action pair at timestep $t$\n",
        "\n",
        "A negative term is added to the sum since the idea is to maximize the probabilities of actions yielding higher rewards by minimizing the combined loss."
      ]
    },
    {
      "cell_type": "markdown",
      "metadata": {
        "id": "6mnYgN9bvSai"
      },
      "source": [
        "##### Advantage\n",
        "\n",
        "The [advantage](https://spinningup.openai.com/en/latest/spinningup/rl_intro.html#advantage-functions), which is the $G - V$ term in our $L_{actor}$ formulation, indicates how much better an action is given a particular state over a random action selected according to the policy $\\pi$ for that state. The inclusion of a baseline helps lower variance during training."
      ]
    },
    {
      "cell_type": "markdown",
      "metadata": {
        "id": "gNpxGKSzvWAx"
      },
      "source": [
        "#### Critic loss\n",
        "\n",
        "Training $V$ to be as close possible to $G$ can be set up as a regression problem with the following loss function:\n",
        "\n",
        "$$L_{critic} = L_{\\delta}(G, V^{\\pi}_{\\theta})$$\n",
        "\n",
        "where $L_{\\delta}$ is the [Huber loss](https://en.wikipedia.org/wiki/Huber_loss), which is less sensitive to outliers in data than squared-error loss."
      ]
    },
    {
      "cell_type": "code",
      "metadata": {
        "id": "3dw7QBRRvZh9"
      },
      "source": [
        "huber_loss = tf.keras.losses.Huber(reduction=tf.keras.losses.Reduction.SUM)\n",
        "\n",
        "def compute_loss(\n",
        "    action_probs: tf.Tensor,  \n",
        "    values: tf.Tensor,  \n",
        "    returns: tf.Tensor) -> tf.Tensor:\n",
        "  \"\"\"Computes the combined actor-critic loss.\"\"\"\n",
        "\n",
        "  advantage = returns - values\n",
        "  action_log_probs = tf.math.log(action_probs)\n",
        "  actor_loss = -tf.math.reduce_sum(action_log_probs * advantage)\n",
        "  critic_loss = huber_loss(values, returns)\n",
        "\n",
        "  return actor_loss + critic_loss"
      ],
      "execution_count": 8,
      "outputs": []
    },
    {
      "cell_type": "markdown",
      "metadata": {
        "id": "L0L7J-Xhvx2k"
      },
      "source": [
        "### 4. Training Step to Update Parameters\n",
        "\n",
        "Combine steps 1-3 into a single function, where we use `tf.GradientTape` for automatic differentiation. We use Adam optimizer to update model parameters with gradients.\n",
        "\n",
        "Also, the sum of undiscounted rewards, `episode_reward` is computed in this step, and will be used later to determine if the success criterion is met."
      ]
    },
    {
      "cell_type": "code",
      "metadata": {
        "id": "2YXvMhNlwfA1"
      },
      "source": [
        "optimizer = tf.keras.optimizers.Adam(learning_rate=0.01)\n",
        "\n",
        "@tf.function\n",
        "def train_step(\n",
        "    initial_state: tf.Tensor, \n",
        "    model: tf.keras.Model, \n",
        "    optimizer: tf.keras.optimizers.Optimizer, \n",
        "    gamma: float, \n",
        "    max_steps_per_episode: int) -> tf.Tensor:\n",
        "  \"\"\"Runs a model training step.\"\"\"\n",
        "\n",
        "  with tf.GradientTape() as tape:\n",
        "\n",
        "    # Run the model for one episode to collect training data\n",
        "    action_probs, values, rewards = run_episode(\n",
        "        initial_state, model, max_steps_per_episode) \n",
        "\n",
        "    # Calculate expected returns\n",
        "    returns = get_expected_return(rewards, gamma)\n",
        "\n",
        "    # Convert training data to appropriate TF tensor shapes\n",
        "    action_probs, values, returns = [\n",
        "        tf.expand_dims(x, 1) for x in [action_probs, values, returns]] \n",
        "\n",
        "    # Calculating loss values to update our network\n",
        "    loss = compute_loss(action_probs, values, returns)\n",
        "\n",
        "  # Compute the gradients from the loss\n",
        "  grads = tape.gradient(loss, model.trainable_variables)\n",
        "\n",
        "  # Apply the gradients to the model's parameters\n",
        "  optimizer.apply_gradients(zip(grads, model.trainable_variables))\n",
        "\n",
        "  episode_reward = tf.math.reduce_sum(rewards)\n",
        "\n",
        "  return episode_reward"
      ],
      "execution_count": 9,
      "outputs": []
    },
    {
      "cell_type": "markdown",
      "metadata": {
        "id": "1uFeY2XMwv9N"
      },
      "source": [
        "### 5. Training Loop\n",
        "\n",
        "Execute the training step until we either meet the success criterion or reach the maximum number of episodes.\n",
        "\n",
        "We keep track of the past 100 trails in a queue and a running sum of rewards to check the success criterion."
      ]
    },
    {
      "cell_type": "code",
      "metadata": {
        "colab": {
          "base_uri": "https://localhost:8080/"
        },
        "id": "s0RTNJeZxQX2",
        "outputId": "5d8259c1-ac72-4a84-c8b3-2c35ee7b9ad6"
      },
      "source": [
        "min_episodes_criterion = 100\n",
        "max_episodes = 10000\n",
        "max_steps_per_episode = 1000\n",
        "\n",
        "# Cartpole-v0 is considered solved if average reward is >= 195 over 100 \n",
        "# consecutive trials\n",
        "reward_threshold = 195\n",
        "running_reward = 0\n",
        "\n",
        "# Discount factor for future rewards\n",
        "gamma = 0.99\n",
        "\n",
        "# Keep last episodes reward\n",
        "episodes_reward: collections.deque = collections.deque(maxlen=min_episodes_criterion)\n",
        "\n",
        "with tqdm.trange(max_episodes) as t:\n",
        "  for i in t:\n",
        "    initial_state = tf.constant(env.reset(), dtype=tf.float32)\n",
        "    episode_reward = int(train_step(\n",
        "        initial_state, model, optimizer, gamma, max_steps_per_episode))\n",
        "    \n",
        "    episodes_reward.append(episode_reward)\n",
        "    running_reward = statistics.mean(episodes_reward)\n",
        "  \n",
        "    t.set_description(f'Episode {i}')\n",
        "    t.set_postfix(\n",
        "        episode_reward=episode_reward, running_reward=running_reward)\n",
        "  \n",
        "    # Show average episode reward every 10 episodes\n",
        "    if i % 10 == 0:\n",
        "       tf.print(f'\\nEpisode {i}: average reward: {running_reward:.2f}\\n')\n",
        "  \n",
        "    if running_reward > reward_threshold and i >= min_episodes_criterion:  \n",
        "        break\n",
        "\n",
        "print(f'\\nSolved at episode {i}: average reward: {running_reward:.2f}!')"
      ],
      "execution_count": 10,
      "outputs": [
        {
          "output_type": "stream",
          "name": "stderr",
          "text": [
            "Episode 0:   0%|          | 0/10000 [00:04<?, ?it/s, episode_reward=40, running_reward=40]"
          ]
        },
        {
          "output_type": "stream",
          "name": "stdout",
          "text": [
            "\n",
            "Episode 0: average reward: 40.00\n",
            "\n"
          ]
        },
        {
          "output_type": "stream",
          "name": "stderr",
          "text": [
            "Episode 10:   0%|          | 10/10000 [00:06<35:55,  4.63it/s, episode_reward=42, running_reward=34.2]"
          ]
        },
        {
          "output_type": "stream",
          "name": "stdout",
          "text": [
            "\n",
            "Episode 10: average reward: 34.18\n",
            "\n"
          ]
        },
        {
          "output_type": "stream",
          "name": "stderr",
          "text": [
            "Episode 20:   0%|          | 20/10000 [00:07<22:53,  7.26it/s, episode_reward=43, running_reward=39.1]"
          ]
        },
        {
          "output_type": "stream",
          "name": "stdout",
          "text": [
            "\n",
            "Episode 20: average reward: 39.10\n",
            "\n"
          ]
        },
        {
          "output_type": "stream",
          "name": "stderr",
          "text": [
            "Episode 30:   0%|          | 30/10000 [00:09<31:05,  5.34it/s, episode_reward=51, running_reward=41.5]"
          ]
        },
        {
          "output_type": "stream",
          "name": "stdout",
          "text": [
            "\n",
            "Episode 30: average reward: 41.48\n",
            "\n"
          ]
        },
        {
          "output_type": "stream",
          "name": "stderr",
          "text": [
            "Episode 40:   0%|          | 40/10000 [00:11<26:06,  6.36it/s, episode_reward=72, running_reward=42]  "
          ]
        },
        {
          "output_type": "stream",
          "name": "stdout",
          "text": [
            "\n",
            "Episode 40: average reward: 41.95\n",
            "\n"
          ]
        },
        {
          "output_type": "stream",
          "name": "stderr",
          "text": [
            "Episode 50:   0%|          | 49/10000 [00:12<30:10,  5.50it/s, episode_reward=18, running_reward=42.9]"
          ]
        },
        {
          "output_type": "stream",
          "name": "stdout",
          "text": [
            "\n",
            "Episode 50: average reward: 42.90\n",
            "\n"
          ]
        },
        {
          "output_type": "stream",
          "name": "stderr",
          "text": [
            "Episode 60:   1%|          | 60/10000 [00:14<47:59,  3.45it/s, episode_reward=59, running_reward=46.2]"
          ]
        },
        {
          "output_type": "stream",
          "name": "stdout",
          "text": [
            "\n",
            "Episode 60: average reward: 46.21\n",
            "\n"
          ]
        },
        {
          "output_type": "stream",
          "name": "stderr",
          "text": [
            "Episode 70:   1%|          | 70/10000 [00:18<52:19,  3.16it/s, episode_reward=44, running_reward=54]   "
          ]
        },
        {
          "output_type": "stream",
          "name": "stdout",
          "text": [
            "\n",
            "Episode 70: average reward: 53.99\n",
            "\n"
          ]
        },
        {
          "output_type": "stream",
          "name": "stderr",
          "text": [
            "Episode 80:   1%|          | 80/10000 [00:20<47:17,  3.50it/s, episode_reward=30, running_reward=55.7] "
          ]
        },
        {
          "output_type": "stream",
          "name": "stdout",
          "text": [
            "\n",
            "Episode 80: average reward: 55.74\n",
            "\n"
          ]
        },
        {
          "output_type": "stream",
          "name": "stderr",
          "text": [
            "Episode 90:   1%|          | 90/10000 [00:23<51:06,  3.23it/s, episode_reward=34, running_reward=59.6]"
          ]
        },
        {
          "output_type": "stream",
          "name": "stdout",
          "text": [
            "\n",
            "Episode 90: average reward: 59.59\n",
            "\n"
          ]
        },
        {
          "output_type": "stream",
          "name": "stderr",
          "text": [
            "Episode 100:   1%|          | 100/10000 [00:29<1:38:35,  1.67it/s, episode_reward=200, running_reward=71.5]"
          ]
        },
        {
          "output_type": "stream",
          "name": "stdout",
          "text": [
            "\n",
            "Episode 100: average reward: 71.45\n",
            "\n"
          ]
        },
        {
          "output_type": "stream",
          "name": "stderr",
          "text": [
            "Episode 110:   1%|          | 110/10000 [00:35<1:47:37,  1.53it/s, episode_reward=200, running_reward=88.1]"
          ]
        },
        {
          "output_type": "stream",
          "name": "stdout",
          "text": [
            "\n",
            "Episode 110: average reward: 88.09\n",
            "\n"
          ]
        },
        {
          "output_type": "stream",
          "name": "stderr",
          "text": [
            "Episode 120:   1%|          | 120/10000 [00:42<1:44:14,  1.58it/s, episode_reward=162, running_reward=103]"
          ]
        },
        {
          "output_type": "stream",
          "name": "stdout",
          "text": [
            "\n",
            "Episode 120: average reward: 103.04\n",
            "\n"
          ]
        },
        {
          "output_type": "stream",
          "name": "stderr",
          "text": [
            "Episode 130:   1%|▏         | 130/10000 [00:44<55:07,  2.98it/s, episode_reward=124, running_reward=106]"
          ]
        },
        {
          "output_type": "stream",
          "name": "stdout",
          "text": [
            "\n",
            "Episode 130: average reward: 106.35\n",
            "\n"
          ]
        },
        {
          "output_type": "stream",
          "name": "stderr",
          "text": [
            "Episode 140:   1%|▏         | 140/10000 [00:47<56:04,  2.93it/s, episode_reward=125, running_reward=111]"
          ]
        },
        {
          "output_type": "stream",
          "name": "stdout",
          "text": [
            "\n",
            "Episode 140: average reward: 111.25\n",
            "\n"
          ]
        },
        {
          "output_type": "stream",
          "name": "stderr",
          "text": [
            "Episode 150:   1%|▏         | 149/10000 [00:51<1:03:49,  2.57it/s, episode_reward=128, running_reward=118]"
          ]
        },
        {
          "output_type": "stream",
          "name": "stdout",
          "text": [
            "\n",
            "Episode 150: average reward: 117.87\n",
            "\n"
          ]
        },
        {
          "output_type": "stream",
          "name": "stderr",
          "text": [
            "Episode 160:   2%|▏         | 159/10000 [00:54<57:27,  2.85it/s, episode_reward=119, running_reward=120]"
          ]
        },
        {
          "output_type": "stream",
          "name": "stdout",
          "text": [
            "\n",
            "Episode 160: average reward: 120.48\n",
            "\n"
          ]
        },
        {
          "output_type": "stream",
          "name": "stderr",
          "text": [
            "Episode 170:   2%|▏         | 170/10000 [01:00<1:40:09,  1.64it/s, episode_reward=200, running_reward=128]"
          ]
        },
        {
          "output_type": "stream",
          "name": "stdout",
          "text": [
            "\n",
            "Episode 170: average reward: 127.95\n",
            "\n"
          ]
        },
        {
          "output_type": "stream",
          "name": "stderr",
          "text": [
            "Episode 180:   2%|▏         | 180/10000 [01:07<1:48:40,  1.51it/s, episode_reward=200, running_reward=141]"
          ]
        },
        {
          "output_type": "stream",
          "name": "stdout",
          "text": [
            "\n",
            "Episode 180: average reward: 141.13\n",
            "\n"
          ]
        },
        {
          "output_type": "stream",
          "name": "stderr",
          "text": [
            "Episode 190:   2%|▏         | 190/10000 [01:12<1:16:13,  2.14it/s, episode_reward=152, running_reward=149]"
          ]
        },
        {
          "output_type": "stream",
          "name": "stdout",
          "text": [
            "\n",
            "Episode 190: average reward: 148.57\n",
            "\n"
          ]
        },
        {
          "output_type": "stream",
          "name": "stderr",
          "text": [
            "Episode 200:   2%|▏         | 200/10000 [01:14<32:00,  5.10it/s, episode_reward=18, running_reward=135]"
          ]
        },
        {
          "output_type": "stream",
          "name": "stdout",
          "text": [
            "\n",
            "Episode 200: average reward: 135.45\n",
            "\n"
          ]
        },
        {
          "output_type": "stream",
          "name": "stderr",
          "text": [
            "Episode 210:   2%|▏         | 210/10000 [01:19<1:20:45,  2.02it/s, episode_reward=173, running_reward=130]"
          ]
        },
        {
          "output_type": "stream",
          "name": "stdout",
          "text": [
            "\n",
            "Episode 210: average reward: 130.22\n",
            "\n"
          ]
        },
        {
          "output_type": "stream",
          "name": "stderr",
          "text": [
            "Episode 220:   2%|▏         | 220/10000 [01:24<1:28:10,  1.85it/s, episode_reward=160, running_reward=128]"
          ]
        },
        {
          "output_type": "stream",
          "name": "stdout",
          "text": [
            "\n",
            "Episode 220: average reward: 127.80\n",
            "\n"
          ]
        },
        {
          "output_type": "stream",
          "name": "stderr",
          "text": [
            "Episode 230:   2%|▏         | 230/10000 [01:30<1:31:54,  1.77it/s, episode_reward=151, running_reward=137]"
          ]
        },
        {
          "output_type": "stream",
          "name": "stdout",
          "text": [
            "\n",
            "Episode 230: average reward: 136.63\n",
            "\n"
          ]
        },
        {
          "output_type": "stream",
          "name": "stderr",
          "text": [
            "Episode 240:   2%|▏         | 240/10000 [01:35<1:24:32,  1.92it/s, episode_reward=148, running_reward=143]"
          ]
        },
        {
          "output_type": "stream",
          "name": "stdout",
          "text": [
            "\n",
            "Episode 240: average reward: 143.03\n",
            "\n"
          ]
        },
        {
          "output_type": "stream",
          "name": "stderr",
          "text": [
            "Episode 250:   2%|▎         | 250/10000 [01:39<56:10,  2.89it/s, episode_reward=111, running_reward=143]"
          ]
        },
        {
          "output_type": "stream",
          "name": "stdout",
          "text": [
            "\n",
            "Episode 250: average reward: 143.29\n",
            "\n"
          ]
        },
        {
          "output_type": "stream",
          "name": "stderr",
          "text": [
            "Episode 260:   3%|▎         | 260/10000 [01:42<57:45,  2.81it/s, episode_reward=105, running_reward=145]"
          ]
        },
        {
          "output_type": "stream",
          "name": "stdout",
          "text": [
            "\n",
            "Episode 260: average reward: 144.95\n",
            "\n"
          ]
        },
        {
          "output_type": "stream",
          "name": "stderr",
          "text": [
            "Episode 270:   3%|▎         | 270/10000 [01:47<1:07:35,  2.40it/s, episode_reward=129, running_reward=140]"
          ]
        },
        {
          "output_type": "stream",
          "name": "stdout",
          "text": [
            "\n",
            "Episode 270: average reward: 139.65\n",
            "\n"
          ]
        },
        {
          "output_type": "stream",
          "name": "stderr",
          "text": [
            "Episode 280:   3%|▎         | 280/10000 [01:51<1:14:23,  2.18it/s, episode_reward=154, running_reward=133]"
          ]
        },
        {
          "output_type": "stream",
          "name": "stdout",
          "text": [
            "\n",
            "Episode 280: average reward: 133.08\n",
            "\n"
          ]
        },
        {
          "output_type": "stream",
          "name": "stderr",
          "text": [
            "Episode 290:   3%|▎         | 290/10000 [01:57<1:44:58,  1.54it/s, episode_reward=200, running_reward=136]"
          ]
        },
        {
          "output_type": "stream",
          "name": "stdout",
          "text": [
            "\n",
            "Episode 290: average reward: 135.76\n",
            "\n"
          ]
        },
        {
          "output_type": "stream",
          "name": "stderr",
          "text": [
            "Episode 300:   3%|▎         | 300/10000 [02:04<1:48:11,  1.49it/s, episode_reward=200, running_reward=151]"
          ]
        },
        {
          "output_type": "stream",
          "name": "stdout",
          "text": [
            "\n",
            "Episode 300: average reward: 151.26\n",
            "\n"
          ]
        },
        {
          "output_type": "stream",
          "name": "stderr",
          "text": [
            "Episode 310:   3%|▎         | 310/10000 [02:11<1:48:52,  1.48it/s, episode_reward=200, running_reward=156]"
          ]
        },
        {
          "output_type": "stream",
          "name": "stdout",
          "text": [
            "\n",
            "Episode 310: average reward: 156.49\n",
            "\n"
          ]
        },
        {
          "output_type": "stream",
          "name": "stderr",
          "text": [
            "Episode 320:   3%|▎         | 319/10000 [02:15<1:00:45,  2.66it/s, episode_reward=200, running_reward=154]"
          ]
        },
        {
          "output_type": "stream",
          "name": "stdout",
          "text": [
            "\n",
            "Episode 320: average reward: 153.90\n",
            "\n"
          ]
        },
        {
          "output_type": "stream",
          "name": "stderr",
          "text": [
            "Episode 330:   3%|▎         | 329/10000 [02:17<29:22,  5.49it/s, episode_reward=12, running_reward=142] "
          ]
        },
        {
          "output_type": "stream",
          "name": "stdout",
          "text": [
            "\n",
            "Episode 330: average reward: 142.19\n",
            "\n"
          ]
        },
        {
          "output_type": "stream",
          "name": "stderr",
          "text": [
            "Episode 340:   3%|▎         | 340/10000 [02:20<52:33,  3.06it/s, episode_reward=104, running_reward=136]"
          ]
        },
        {
          "output_type": "stream",
          "name": "stdout",
          "text": [
            "\n",
            "Episode 340: average reward: 135.50\n",
            "\n"
          ]
        },
        {
          "output_type": "stream",
          "name": "stderr",
          "text": [
            "Episode 350:   4%|▎         | 350/10000 [02:27<1:40:23,  1.60it/s, episode_reward=200, running_reward=143]"
          ]
        },
        {
          "output_type": "stream",
          "name": "stdout",
          "text": [
            "\n",
            "Episode 350: average reward: 143.41\n",
            "\n"
          ]
        },
        {
          "output_type": "stream",
          "name": "stderr",
          "text": [
            "Episode 360:   4%|▎         | 360/10000 [02:33<1:45:59,  1.52it/s, episode_reward=200, running_reward=153]"
          ]
        },
        {
          "output_type": "stream",
          "name": "stdout",
          "text": [
            "\n",
            "Episode 360: average reward: 152.83\n",
            "\n"
          ]
        },
        {
          "output_type": "stream",
          "name": "stderr",
          "text": [
            "Episode 370:   4%|▎         | 370/10000 [02:40<1:47:07,  1.50it/s, episode_reward=200, running_reward=161]"
          ]
        },
        {
          "output_type": "stream",
          "name": "stdout",
          "text": [
            "\n",
            "Episode 370: average reward: 160.52\n",
            "\n"
          ]
        },
        {
          "output_type": "stream",
          "name": "stderr",
          "text": [
            "Episode 380:   4%|▍         | 380/10000 [02:47<1:46:43,  1.50it/s, episode_reward=200, running_reward=167]"
          ]
        },
        {
          "output_type": "stream",
          "name": "stdout",
          "text": [
            "\n",
            "Episode 380: average reward: 167.09\n",
            "\n"
          ]
        },
        {
          "output_type": "stream",
          "name": "stderr",
          "text": [
            "Episode 390:   4%|▍         | 390/10000 [02:52<1:19:59,  2.00it/s, episode_reward=200, running_reward=165]"
          ]
        },
        {
          "output_type": "stream",
          "name": "stdout",
          "text": [
            "\n",
            "Episode 390: average reward: 164.83\n",
            "\n"
          ]
        },
        {
          "output_type": "stream",
          "name": "stderr",
          "text": [
            "Episode 400:   4%|▍         | 400/10000 [02:56<1:05:01,  2.46it/s, episode_reward=200, running_reward=156]"
          ]
        },
        {
          "output_type": "stream",
          "name": "stdout",
          "text": [
            "\n",
            "Episode 400: average reward: 155.67\n",
            "\n"
          ]
        },
        {
          "output_type": "stream",
          "name": "stderr",
          "text": [
            "Episode 410:   4%|▍         | 410/10000 [03:03<1:44:16,  1.53it/s, episode_reward=200, running_reward=156]"
          ]
        },
        {
          "output_type": "stream",
          "name": "stdout",
          "text": [
            "\n",
            "Episode 410: average reward: 155.67\n",
            "\n"
          ]
        },
        {
          "output_type": "stream",
          "name": "stderr",
          "text": [
            "Episode 420:   4%|▍         | 420/10000 [03:09<1:45:28,  1.51it/s, episode_reward=200, running_reward=161]"
          ]
        },
        {
          "output_type": "stream",
          "name": "stdout",
          "text": [
            "\n",
            "Episode 420: average reward: 161.28\n",
            "\n"
          ]
        },
        {
          "output_type": "stream",
          "name": "stderr",
          "text": [
            "Episode 430:   4%|▍         | 429/10000 [03:15<1:45:57,  1.51it/s, episode_reward=200, running_reward=174]"
          ]
        },
        {
          "output_type": "stream",
          "name": "stdout",
          "text": [
            "\n",
            "Episode 430: average reward: 174.37\n",
            "\n"
          ]
        },
        {
          "output_type": "stream",
          "name": "stderr",
          "text": [
            "Episode 440:   4%|▍         | 439/10000 [03:20<1:37:31,  1.63it/s, episode_reward=19, running_reward=180]"
          ]
        },
        {
          "output_type": "stream",
          "name": "stdout",
          "text": [
            "\n",
            "Episode 440: average reward: 179.99\n",
            "\n"
          ]
        },
        {
          "output_type": "stream",
          "name": "stderr",
          "text": [
            "Episode 450:   4%|▍         | 450/10000 [03:25<1:20:34,  1.98it/s, episode_reward=27, running_reward=177] "
          ]
        },
        {
          "output_type": "stream",
          "name": "stdout",
          "text": [
            "\n",
            "Episode 450: average reward: 176.86\n",
            "\n"
          ]
        },
        {
          "output_type": "stream",
          "name": "stderr",
          "text": [
            "Episode 460:   5%|▍         | 460/10000 [03:32<1:44:37,  1.52it/s, episode_reward=200, running_reward=177]"
          ]
        },
        {
          "output_type": "stream",
          "name": "stdout",
          "text": [
            "\n",
            "Episode 460: average reward: 176.86\n",
            "\n"
          ]
        },
        {
          "output_type": "stream",
          "name": "stderr",
          "text": [
            "Episode 470:   5%|▍         | 470/10000 [03:39<1:45:51,  1.50it/s, episode_reward=200, running_reward=177]"
          ]
        },
        {
          "output_type": "stream",
          "name": "stdout",
          "text": [
            "\n",
            "Episode 470: average reward: 176.86\n",
            "\n"
          ]
        },
        {
          "output_type": "stream",
          "name": "stderr",
          "text": [
            "Episode 480:   5%|▍         | 480/10000 [03:45<1:45:25,  1.50it/s, episode_reward=200, running_reward=177]"
          ]
        },
        {
          "output_type": "stream",
          "name": "stdout",
          "text": [
            "\n",
            "Episode 480: average reward: 176.86\n",
            "\n"
          ]
        },
        {
          "output_type": "stream",
          "name": "stderr",
          "text": [
            "Episode 490:   5%|▍         | 490/10000 [03:52<1:44:12,  1.52it/s, episode_reward=200, running_reward=180]"
          ]
        },
        {
          "output_type": "stream",
          "name": "stdout",
          "text": [
            "\n",
            "Episode 490: average reward: 179.92\n",
            "\n"
          ]
        },
        {
          "output_type": "stream",
          "name": "stderr",
          "text": [
            "Episode 500:   5%|▌         | 500/10000 [03:59<1:45:01,  1.51it/s, episode_reward=200, running_reward=189]"
          ]
        },
        {
          "output_type": "stream",
          "name": "stdout",
          "text": [
            "\n",
            "Episode 500: average reward: 189.08\n",
            "\n"
          ]
        },
        {
          "output_type": "stream",
          "name": "stderr",
          "text": [
            "Episode 510:   5%|▌         | 510/10000 [04:05<1:45:03,  1.51it/s, episode_reward=200, running_reward=189]"
          ]
        },
        {
          "output_type": "stream",
          "name": "stdout",
          "text": [
            "\n",
            "Episode 510: average reward: 189.08\n",
            "\n"
          ]
        },
        {
          "output_type": "stream",
          "name": "stderr",
          "text": [
            "Episode 520:   5%|▌         | 520/10000 [04:11<1:37:46,  1.62it/s, episode_reward=200, running_reward=188]"
          ]
        },
        {
          "output_type": "stream",
          "name": "stdout",
          "text": [
            "\n",
            "Episode 520: average reward: 187.74\n",
            "\n"
          ]
        },
        {
          "output_type": "stream",
          "name": "stderr",
          "text": [
            "Episode 530:   5%|▌         | 530/10000 [04:18<1:45:52,  1.49it/s, episode_reward=200, running_reward=190]"
          ]
        },
        {
          "output_type": "stream",
          "name": "stdout",
          "text": [
            "\n",
            "Episode 530: average reward: 189.57\n",
            "\n"
          ]
        },
        {
          "output_type": "stream",
          "name": "stderr",
          "text": [
            "Episode 540:   5%|▌         | 540/10000 [04:25<1:44:37,  1.51it/s, episode_reward=200, running_reward=195]"
          ]
        },
        {
          "output_type": "stream",
          "name": "stdout",
          "text": [
            "\n",
            "Episode 540: average reward: 195.00\n",
            "\n"
          ]
        },
        {
          "output_type": "stream",
          "name": "stderr",
          "text": [
            "Episode 542:   5%|▌         | 542/10000 [04:26<1:17:31,  2.03it/s, episode_reward=200, running_reward=195]"
          ]
        },
        {
          "output_type": "stream",
          "name": "stdout",
          "text": [
            "\n",
            "Solved at episode 542: average reward: 195.13!\n"
          ]
        },
        {
          "output_type": "stream",
          "name": "stderr",
          "text": [
            "\n"
          ]
        }
      ]
    },
    {
      "cell_type": "markdown",
      "metadata": {
        "id": "YZbixfatywkn"
      },
      "source": [
        "### Visualization\n",
        "\n",
        "After completing training, we can visualize how the model performs in the environment."
      ]
    },
    {
      "cell_type": "code",
      "metadata": {
        "id": "Xxv1MgOHzH5n"
      },
      "source": [
        "# Render an episode and save as a GIF file\n",
        "\n",
        "from IPython import display as ipythondisplay\n",
        "from PIL import Image\n",
        "from pyvirtualdisplay import Display\n",
        "\n",
        "display = Display(visible=0, size=(400, 300))\n",
        "display.start()\n",
        "\n",
        "def render_episode(env: gym.Env, model: tf.keras.Model, max_steps: int): \n",
        "  screen = env.render(mode='rgb_array')\n",
        "  im = Image.fromarray(screen)\n",
        "\n",
        "  images = [im]\n",
        "  \n",
        "  state = tf.constant(env.reset(), dtype=tf.float32)\n",
        "  for i in range(1, max_steps + 1):\n",
        "    state = tf.expand_dims(state, 0)\n",
        "    action_probs, _ = model(state)\n",
        "    action = np.argmax(np.squeeze(action_probs))\n",
        "\n",
        "    state, _, done, _ = env.step(action)\n",
        "    state = tf.constant(state, dtype=tf.float32)\n",
        "\n",
        "    # Render screen every 10 steps\n",
        "    if i % 10 == 0:\n",
        "      screen = env.render(mode='rgb_array')\n",
        "      images.append(Image.fromarray(screen))\n",
        "  \n",
        "    if done:\n",
        "      break\n",
        "  \n",
        "  return images\n",
        "\n",
        "# Save GIF image\n",
        "images = render_episode(env, model, max_steps_per_episode)\n",
        "image_file = 'cartpole-v0.gif'\n",
        "# loop=0: loop forever, duration=1: play each frame for 1ms\n",
        "images[0].save(\n",
        "    image_file, save_all=True, append_images=images[1:], loop=0, duration=1)"
      ],
      "execution_count": 11,
      "outputs": []
    },
    {
      "cell_type": "code",
      "metadata": {
        "colab": {
          "base_uri": "https://localhost:8080/",
          "height": 421
        },
        "id": "psJuvVvwzUl0",
        "outputId": "9762edaf-3784-4cea-b78f-c28d2c7526fc"
      },
      "source": [
        "import tensorflow_docs.vis.embed as embed\n",
        "embed.embed_file(image_file)"
      ],
      "execution_count": 12,
      "outputs": [
        {
          "output_type": "execute_result",
          "data": {
            "text/html": [
              "<img src=\"data:image/gif;base64,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\"/>"
            ],
            "text/plain": [
              "<IPython.core.display.HTML object>"
            ]
          },
          "metadata": {},
          "execution_count": 12
        }
      ]
    }
  ]
}